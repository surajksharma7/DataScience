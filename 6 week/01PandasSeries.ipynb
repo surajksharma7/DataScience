{
 "cells": [
  {
   "cell_type": "code",
   "execution_count": 3,
   "id": "bab3cf69",
   "metadata": {},
   "outputs": [],
   "source": [
    "import numpy as np \n",
    "import pandas as pd"
   ]
  },
  {
   "cell_type": "code",
   "execution_count": 5,
   "id": "1527edb2",
   "metadata": {},
   "outputs": [],
   "source": [
    "country = ['India','Pakistan','Usa','Nepal','Srilanka']\n",
    "country = pd.Series(country)"
   ]
  },
  {
   "cell_type": "code",
   "execution_count": null,
   "id": "75bef65f",
   "metadata": {},
   "outputs": [
    {
     "data": {
      "text/plain": [
       "0       India\n",
       "1    Pakistan\n",
       "2         Usa\n",
       "3       Nepal\n",
       "4    Srilanka\n",
       "dtype: object"
      ]
     },
     "execution_count": 6,
     "metadata": {},
     "output_type": "execute_result"
    }
   ],
   "source": [
    "country # string in pandas is called object"
   ]
  },
  {
   "cell_type": "code",
   "execution_count": 7,
   "id": "88e53272",
   "metadata": {},
   "outputs": [],
   "source": [
    "# integer \n",
    "runs = [19,20,30,45]\n",
    "\n",
    "runs = pd.Series(runs)"
   ]
  },
  {
   "cell_type": "code",
   "execution_count": 8,
   "id": "84ff638c",
   "metadata": {},
   "outputs": [],
   "source": [
    "# integer \n",
    "runs = [19,20,30,45]\n",
    "name = ['r','s','k','t']\n",
    "\n",
    "runs = pd.Series(runs,index=name)"
   ]
  },
  {
   "cell_type": "code",
   "execution_count": 9,
   "id": "dee165db",
   "metadata": {},
   "outputs": [
    {
     "data": {
      "text/plain": [
       "r    19\n",
       "s    20\n",
       "k    30\n",
       "t    45\n",
       "dtype: int64"
      ]
     },
     "execution_count": 9,
     "metadata": {},
     "output_type": "execute_result"
    }
   ],
   "source": [
    "runs"
   ]
  },
  {
   "cell_type": "code",
   "execution_count": 10,
   "id": "72b22e5b",
   "metadata": {},
   "outputs": [],
   "source": [
    "# integer \n",
    "runs = [19,20,30,45]\n",
    "name = ['r','s','k','t']\n",
    "\n",
    "runs = pd.Series(runs,index=name,name='suraj')"
   ]
  },
  {
   "cell_type": "code",
   "execution_count": 11,
   "id": "5b1e37c2",
   "metadata": {},
   "outputs": [
    {
     "data": {
      "text/plain": [
       "r    19\n",
       "s    20\n",
       "k    30\n",
       "t    45\n",
       "Name: suraj, dtype: int64"
      ]
     },
     "execution_count": 11,
     "metadata": {},
     "output_type": "execute_result"
    }
   ],
   "source": [
    "runs"
   ]
  },
  {
   "cell_type": "code",
   "execution_count": 13,
   "id": "5b066909",
   "metadata": {},
   "outputs": [],
   "source": [
    "marks = {\n",
    "    'english':80,\n",
    "    'hindi' : 90\n",
    "    \n",
    "}\n",
    "\n",
    "marks = pd.Series(marks,name='hindi')"
   ]
  },
  {
   "cell_type": "code",
   "execution_count": 14,
   "id": "a3a7fa7d",
   "metadata": {},
   "outputs": [
    {
     "data": {
      "text/plain": [
       "english    80\n",
       "hindi      90\n",
       "Name: hindi, dtype: int64"
      ]
     },
     "execution_count": 14,
     "metadata": {},
     "output_type": "execute_result"
    }
   ],
   "source": [
    "marks"
   ]
  },
  {
   "cell_type": "code",
   "execution_count": null,
   "id": "28d20ef1",
   "metadata": {},
   "outputs": [],
   "source": []
  }
 ],
 "metadata": {
  "kernelspec": {
   "display_name": "base",
   "language": "python",
   "name": "python3"
  },
  "language_info": {
   "codemirror_mode": {
    "name": "ipython",
    "version": 3
   },
   "file_extension": ".py",
   "mimetype": "text/x-python",
   "name": "python",
   "nbconvert_exporter": "python",
   "pygments_lexer": "ipython3",
   "version": "3.12.3"
  }
 },
 "nbformat": 4,
 "nbformat_minor": 5
}
