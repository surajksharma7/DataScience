{
 "cells": [
  {
   "cell_type": "code",
   "execution_count": 1,
   "id": "f87796fc",
   "metadata": {},
   "outputs": [
    {
     "name": "stdout",
     "output_type": "stream",
     "text": [
      "hello world\n"
     ]
    }
   ],
   "source": [
    "print(\"hello world\")"
   ]
  },
  {
   "cell_type": "code",
   "execution_count": 2,
   "id": "8c1ed0e5",
   "metadata": {},
   "outputs": [
    {
     "name": "stdout",
     "output_type": "stream",
     "text": [
      "hello world 8 1.4\n"
     ]
    }
   ],
   "source": [
    "print(\"hello world\", 8 , 1.4)"
   ]
  },
  {
   "cell_type": "code",
   "execution_count": 3,
   "id": "404853cb",
   "metadata": {},
   "outputs": [
    {
     "name": "stdout",
     "output_type": "stream",
     "text": [
      "hello/world/suraj\n"
     ]
    }
   ],
   "source": [
    "print('hello','world','suraj',sep='/')"
   ]
  },
  {
   "cell_type": "code",
   "execution_count": 6,
   "id": "fe4d314a",
   "metadata": {},
   "outputs": [
    {
     "name": "stdout",
     "output_type": "stream",
     "text": [
      "hello world\n"
     ]
    }
   ],
   "source": [
    "print('hello',end=' ')\n",
    "print('world')"
   ]
  },
  {
   "cell_type": "code",
   "execution_count": 7,
   "id": "d9e9f999",
   "metadata": {},
   "outputs": [
    {
     "name": "stdout",
     "output_type": "stream",
     "text": [
      "8\n"
     ]
    }
   ],
   "source": [
    "print(8)"
   ]
  },
  {
   "cell_type": "code",
   "execution_count": 8,
   "id": "c89a57ee",
   "metadata": {},
   "outputs": [
    {
     "name": "stdout",
     "output_type": "stream",
     "text": [
      "8.8\n"
     ]
    }
   ],
   "source": [
    "print(8.8)"
   ]
  },
  {
   "cell_type": "code",
   "execution_count": 9,
   "id": "3a4afeb8",
   "metadata": {},
   "outputs": [
    {
     "name": "stdout",
     "output_type": "stream",
     "text": [
      "True\n"
     ]
    }
   ],
   "source": [
    "print(True)"
   ]
  },
  {
   "cell_type": "code",
   "execution_count": 10,
   "id": "5b7406d2",
   "metadata": {},
   "outputs": [],
   "source": [
    "# type is used to detect a datatype of a value"
   ]
  },
  {
   "cell_type": "code",
   "execution_count": 11,
   "id": "78782a59",
   "metadata": {},
   "outputs": [],
   "source": [
    "# variable \n",
    "\n",
    "# static vs dynamic variable \n",
    "# static typed vs dynamic types \n",
    "# stylish way to declare a variable"
   ]
  },
  {
   "cell_type": "code",
   "execution_count": 14,
   "id": "4a749710",
   "metadata": {},
   "outputs": [
    {
     "name": "stdout",
     "output_type": "stream",
     "text": [
      "5 10 10\n",
      "10 10 10\n"
     ]
    }
   ],
   "source": [
    "a,b,c = 5,10,10\n",
    "print(a,b,c)\n",
    "a = b = c = 10\n",
    "print(a,b,c)"
   ]
  },
  {
   "cell_type": "code",
   "execution_count": 1,
   "id": "5e927b5c",
   "metadata": {},
   "outputs": [
    {
     "name": "stdin",
     "output_type": "stream",
     "text": [
      "Enter your name  suraj kumar\n"
     ]
    },
    {
     "name": "stdout",
     "output_type": "stream",
     "text": [
      "suraj kumar\n"
     ]
    }
   ],
   "source": [
    "a = input(\"Enter your name \")\n",
    "print(a)"
   ]
  },
  {
   "cell_type": "code",
   "execution_count": null,
   "id": "901d0a22",
   "metadata": {},
   "outputs": [],
   "source": []
  }
 ],
 "metadata": {
  "kernelspec": {
   "display_name": "Python [conda env:base] *",
   "language": "python",
   "name": "conda-base-py"
  },
  "language_info": {
   "codemirror_mode": {
    "name": "ipython",
    "version": 3
   },
   "file_extension": ".py",
   "mimetype": "text/x-python",
   "name": "python",
   "nbconvert_exporter": "python",
   "pygments_lexer": "ipython3",
   "version": "3.12.3"
  }
 },
 "nbformat": 4,
 "nbformat_minor": 5
}
